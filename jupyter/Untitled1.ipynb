{
 "cells": [
  {
   "cell_type": "code",
   "execution_count": 1,
   "id": "b58002df",
   "metadata": {},
   "outputs": [],
   "source": [
    "from math import comb"
   ]
  },
  {
   "cell_type": "code",
   "execution_count": 8,
   "id": "bc9b6948",
   "metadata": {},
   "outputs": [],
   "source": [
    "sites = 10\n",
    "defects = 4\n",
    "\n",
    "data = []\n",
    "for i in range(sites-(defects-1)):\n",
    "    for j in range(i+1,sites-(defects-2)):\n",
    "        for k in range(j+1,sites-(defects-3)):\n",
    "            for l in range(k+1,sites-(defects-4)):\n",
    "                data.append((i,j,k,l))\n",
    "lookup_data = {entry: i for i,entry in enumerate(data)}"
   ]
  },
  {
   "cell_type": "code",
   "execution_count": 25,
   "id": "ed981a9f",
   "metadata": {},
   "outputs": [],
   "source": [
    "inc_is = []\n",
    "inc_js = []\n",
    "inc_ks = []\n",
    "inc_ls = []\n",
    "for (i,j,k,l) in data:\n",
    "    if i != j-1:\n",
    "        delta = lookup_data[(i+1,j,k,l)] - lookup_data[(i,j,k,l)]\n",
    "        inc_is.append((i,delta))\n",
    "    if j != k-1:\n",
    "        delta = lookup_data[(i,j+1,k,l)] - lookup_data[(i,j,k,l)]\n",
    "        inc_js.append((j,delta))\n",
    "    if k != l-1:\n",
    "        delta = lookup_data[(i,j,k+1,l)] - lookup_data[(i,j,k,l)]\n",
    "        inc_ks.append((k,delta))\n",
    "    if l != 9:\n",
    "        delta = lookup_data[(i,j,k,l+1)] - lookup_data[(i,j,k,l)]\n",
    "        inc_ls.append((l,delta))"
   ]
  },
  {
   "cell_type": "code",
   "execution_count": 26,
   "id": "b3141ae7",
   "metadata": {},
   "outputs": [
    {
     "data": {
      "text/plain": [
       "{(0, 56), (1, 35), (2, 20), (3, 10), (4, 4), (5, 1)}"
      ]
     },
     "execution_count": 26,
     "metadata": {},
     "output_type": "execute_result"
    }
   ],
   "source": [
    "set(inc_is)"
   ]
  },
  {
   "cell_type": "code",
   "execution_count": 27,
   "id": "00c6175a",
   "metadata": {},
   "outputs": [
    {
     "data": {
      "text/plain": [
       "{(1, 21), (2, 15), (3, 10), (4, 6), (5, 3), (6, 1)}"
      ]
     },
     "execution_count": 27,
     "metadata": {},
     "output_type": "execute_result"
    }
   ],
   "source": [
    "set(inc_js)"
   ]
  },
  {
   "cell_type": "code",
   "execution_count": 28,
   "id": "bdf5f85b",
   "metadata": {},
   "outputs": [
    {
     "data": {
      "text/plain": [
       "{(2, 6), (3, 5), (4, 4), (5, 3), (6, 2), (7, 1)}"
      ]
     },
     "execution_count": 28,
     "metadata": {},
     "output_type": "execute_result"
    }
   ],
   "source": [
    "set(inc_ks)"
   ]
  },
  {
   "cell_type": "code",
   "execution_count": 29,
   "id": "ba724475",
   "metadata": {},
   "outputs": [
    {
     "data": {
      "text/plain": [
       "{(3, 1), (4, 1), (5, 1), (6, 1), (7, 1), (8, 1)}"
      ]
     },
     "execution_count": 29,
     "metadata": {},
     "output_type": "execute_result"
    }
   ],
   "source": [
    "set(inc_ls)"
   ]
  },
  {
   "cell_type": "code",
   "execution_count": 24,
   "id": "1bd6080d",
   "metadata": {},
   "outputs": [
    {
     "data": {
      "text/plain": [
       "[56, 35, 20, 10, 4, 1]"
      ]
     },
     "execution_count": 24,
     "metadata": {},
     "output_type": "execute_result"
    }
   ],
   "source": [
    "[comb(x,3) for x in reversed(range(3,9))]"
   ]
  },
  {
   "cell_type": "code",
   "execution_count": 19,
   "id": "0dd52d41",
   "metadata": {},
   "outputs": [
    {
     "data": {
      "text/plain": [
       "[21, 15, 10, 6]"
      ]
     },
     "execution_count": 19,
     "metadata": {},
     "output_type": "execute_result"
    }
   ],
   "source": [
    "[comb(x,2) for x in reversed(range(3,8))]"
   ]
  },
  {
   "cell_type": "code",
   "execution_count": 21,
   "id": "4dd5bf24",
   "metadata": {},
   "outputs": [
    {
     "data": {
      "text/plain": [
       "[6, 5, 4, 3, 2]"
      ]
     },
     "execution_count": 21,
     "metadata": {},
     "output_type": "execute_result"
    }
   ],
   "source": [
    "[comb(x,1) for x in reversed(range(2,7))]"
   ]
  },
  {
   "cell_type": "code",
   "execution_count": 22,
   "id": "0968c603",
   "metadata": {},
   "outputs": [
    {
     "data": {
      "text/plain": [
       "[1, 1, 1, 1, 1]"
      ]
     },
     "execution_count": 22,
     "metadata": {},
     "output_type": "execute_result"
    }
   ],
   "source": [
    "[comb(x,0) for x in reversed(range(1,6))]"
   ]
  },
  {
   "cell_type": "code",
   "execution_count": null,
   "id": "56199a23",
   "metadata": {},
   "outputs": [],
   "source": []
  }
 ],
 "metadata": {
  "kernelspec": {
   "display_name": "Python 3 (ipykernel)",
   "language": "python",
   "name": "python3"
  },
  "language_info": {
   "codemirror_mode": {
    "name": "ipython",
    "version": 3
   },
   "file_extension": ".py",
   "mimetype": "text/x-python",
   "name": "python",
   "nbconvert_exporter": "python",
   "pygments_lexer": "ipython3",
   "version": "3.8.10"
  }
 },
 "nbformat": 4,
 "nbformat_minor": 5
}
