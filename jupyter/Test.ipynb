{
 "cells": [
  {
   "cell_type": "code",
   "execution_count": 1,
   "id": "a74683f7",
   "metadata": {},
   "outputs": [],
   "source": [
    "import numpy\n",
    "import py_entropy"
   ]
  },
  {
   "cell_type": "code",
   "execution_count": 2,
   "id": "4fbba879",
   "metadata": {},
   "outputs": [
    {
     "data": {
      "text/plain": [
       "array([1.+0.j, 0.+0.j, 0.+0.j, 0.+0.j])"
      ]
     },
     "execution_count": 2,
     "metadata": {},
     "output_type": "execute_result"
    }
   ],
   "source": [
    "# Make an initial state\n",
    "s = py_entropy.State(numpy.asarray([1.0] + [0]*3, dtype=\"complex128\"))\n",
    "s.get_state()"
   ]
  },
  {
   "cell_type": "code",
   "execution_count": 3,
   "id": "053b8bdc",
   "metadata": {},
   "outputs": [
    {
     "data": {
      "text/plain": [
       "[1.0, 0.9999999999999999, 1.0000000000000002, 0.9999999999999998]"
      ]
     },
     "execution_count": 3,
     "metadata": {},
     "output_type": "execute_result"
    }
   ],
   "source": [
    "# Check that building unitaries works\n",
    "units = s.make_unitaries([0, 1, 2, 3])\n",
    "[abs(numpy.linalg.det(units[i])) for i in range(units.shape[0])]"
   ]
  },
  {
   "cell_type": "code",
   "execution_count": 4,
   "id": "4b7ce145",
   "metadata": {},
   "outputs": [
    {
     "name": "stdout",
     "output_type": "stream",
     "text": [
      "CPU times: user 2min 23s, sys: 26.2 s, total: 2min 50s\n",
      "Wall time: 8.57 s\n"
     ]
    }
   ],
   "source": [
    "# Time 1e6 layers, alternating between offset and non-offset\n",
    "%time s.apply_alternative_layers(1000000, periodic_boundaries=True)"
   ]
  },
  {
   "cell_type": "code",
   "execution_count": 5,
   "id": "671f5f38",
   "metadata": {},
   "outputs": [
    {
     "data": {
      "text/plain": [
       "0.9999999999997602"
      ]
     },
     "execution_count": 5,
     "metadata": {},
     "output_type": "execute_result"
    }
   ],
   "source": [
    "# Check state is preserved\n",
    "state = s.get_state()\n",
    "sum(abs(state)**2)"
   ]
  },
  {
   "cell_type": "code",
   "execution_count": 6,
   "id": "61ec8043",
   "metadata": {},
   "outputs": [
    {
     "data": {
      "text/plain": [
       "array([ 0.25913791-0.1077657j , -0.36969124+0.19077336j,\n",
       "        0.68930733+0.05341094j,  0.38525158+0.34892967j])"
      ]
     },
     "execution_count": 6,
     "metadata": {},
     "output_type": "execute_result"
    }
   ],
   "source": [
    "state"
   ]
  },
  {
   "cell_type": "code",
   "execution_count": 7,
   "id": "1ded72bb",
   "metadata": {},
   "outputs": [
    {
     "name": "stdout",
     "output_type": "stream",
     "text": [
      "[1. 0. 0. 0. 0. 0.]\n",
      "[0.93254681 0.36104909 0.         0.         0.         0.        ]\n",
      "[0.3160257  0.12363053 0.33922255 0.         0.         0.87736612]\n",
      "[0.23113191 0.24846486 0.19306031 0.27892589 0.79372666 0.37385733]\n",
      "[0.38434202 0.20020817 0.24274217 0.66369916 0.51701557 0.21324275]\n",
      "[0.12609961 0.41460944 0.57597107 0.40948462 0.35284538 0.43390979]\n",
      "[0.33782347 0.54652496 0.4527186  0.28948873 0.45647978 0.3000902 ]\n",
      "[0.20350976 0.60942432 0.20117279 0.49828442 0.41896071 0.35057074]\n",
      "[0.21213965 0.39506352 0.50576013 0.53643452 0.36885424 0.3454169 ]\n",
      "[0.21033702 0.39602621 0.68797403 0.26504157 0.44830442 0.23321542]\n",
      "[0.14546894 0.72860523 0.31508639 0.44772835 0.26601355 0.27833412]\n"
     ]
    }
   ],
   "source": [
    "# Make an initial state\n",
    "s = py_entropy.State(numpy.asarray([1.0] + [0]*9, dtype=\"complex128\"))\n",
    "print(abs(s.get_state()))\n",
    "\n",
    "for i in range(10):\n",
    "    s.apply_layer((i % 2) == 1, periodic_boundaries=True)\n",
    "    print(abs(s.get_state()))"
   ]
  },
  {
   "cell_type": "code",
   "execution_count": null,
   "id": "33d0f07e",
   "metadata": {},
   "outputs": [],
   "source": []
  }
 ],
 "metadata": {
  "kernelspec": {
   "display_name": "Python 3 (ipykernel)",
   "language": "python",
   "name": "python3"
  },
  "language_info": {
   "codemirror_mode": {
    "name": "ipython",
    "version": 3
   },
   "file_extension": ".py",
   "mimetype": "text/x-python",
   "name": "python",
   "nbconvert_exporter": "python",
   "pygments_lexer": "ipython3",
   "version": "3.8.10"
  }
 },
 "nbformat": 4,
 "nbformat_minor": 5
}
