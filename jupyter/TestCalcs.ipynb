{
 "cells": [
  {
   "cell_type": "code",
   "execution_count": 69,
   "id": "20073bb2",
   "metadata": {},
   "outputs": [],
   "source": [
    "import numpy\n",
    "import matplotlib"
   ]
  },
  {
   "cell_type": "code",
   "execution_count": 130,
   "id": "8acddb69",
   "metadata": {},
   "outputs": [],
   "source": [
    "def num_states(L,N, ds, state_mat=None):\n",
    "    if state_mat is None:\n",
    "        state_mat = {}\n",
    "    if L==1:\n",
    "        state_mat[(L,N)] = ds[N]\n",
    "    if (L,N) not in state_mat:\n",
    "        s = 0\n",
    "        for m in range(0,N+1):\n",
    "            s += ds[m] * num_states(L-1, N-m, ds, state_mat=state_mat)\n",
    "        state_mat[(L,N)] = s\n",
    "    return state_mat[(L,N)]\n",
    "\n",
    "def make_states(L,N,ds):\n",
    "    if L==0:\n",
    "        yield []\n",
    "    else:\n",
    "        for m in range(0,N+1):\n",
    "            for s in range(ds[m]):\n",
    "                for state in make_states(L-1, N-m, ds):\n",
    "                    t = sum(x[0] for x in state)\n",
    "                    if m + t == N:\n",
    "                        yield [(m,s)] + state"
   ]
  },
  {
   "cell_type": "code",
   "execution_count": 131,
   "id": "ca12efd9",
   "metadata": {},
   "outputs": [
    {
     "data": {
      "text/plain": [
       "{(1, 2): 1, (1, 1): 2, (1, 0): 2, (2, 2): 8, (2, 1): 8, (2, 0): 4, (3, 2): 36}"
      ]
     },
     "execution_count": 131,
     "metadata": {},
     "output_type": "execute_result"
    }
   ],
   "source": [
    "ds = [2,2,1,0,0]\n",
    "sm = {}\n",
    "num_states(3, 2, ds, state_mat=sm)\n",
    "sm"
   ]
  },
  {
   "cell_type": "code",
   "execution_count": 132,
   "id": "c295bbd4",
   "metadata": {},
   "outputs": [
    {
     "data": {
      "text/plain": [
       "[[(0, 0), (0, 0), (2, 0)],\n",
       " [(0, 0), (0, 1), (2, 0)],\n",
       " [(0, 0), (1, 0), (1, 0)],\n",
       " [(0, 0), (1, 0), (1, 1)],\n",
       " [(0, 0), (1, 1), (1, 0)],\n",
       " [(0, 0), (1, 1), (1, 1)],\n",
       " [(0, 0), (2, 0), (0, 0)],\n",
       " [(0, 0), (2, 0), (0, 1)],\n",
       " [(0, 1), (0, 0), (2, 0)],\n",
       " [(0, 1), (0, 1), (2, 0)],\n",
       " [(0, 1), (1, 0), (1, 0)],\n",
       " [(0, 1), (1, 0), (1, 1)],\n",
       " [(0, 1), (1, 1), (1, 0)],\n",
       " [(0, 1), (1, 1), (1, 1)],\n",
       " [(0, 1), (2, 0), (0, 0)],\n",
       " [(0, 1), (2, 0), (0, 1)],\n",
       " [(1, 0), (0, 0), (1, 0)],\n",
       " [(1, 0), (0, 0), (1, 1)],\n",
       " [(1, 0), (0, 1), (1, 0)],\n",
       " [(1, 0), (0, 1), (1, 1)],\n",
       " [(1, 0), (1, 0), (0, 0)],\n",
       " [(1, 0), (1, 0), (0, 1)],\n",
       " [(1, 0), (1, 1), (0, 0)],\n",
       " [(1, 0), (1, 1), (0, 1)],\n",
       " [(1, 1), (0, 0), (1, 0)],\n",
       " [(1, 1), (0, 0), (1, 1)],\n",
       " [(1, 1), (0, 1), (1, 0)],\n",
       " [(1, 1), (0, 1), (1, 1)],\n",
       " [(1, 1), (1, 0), (0, 0)],\n",
       " [(1, 1), (1, 0), (0, 1)],\n",
       " [(1, 1), (1, 1), (0, 0)],\n",
       " [(1, 1), (1, 1), (0, 1)],\n",
       " [(2, 0), (0, 0), (0, 0)],\n",
       " [(2, 0), (0, 0), (0, 1)],\n",
       " [(2, 0), (0, 1), (0, 0)],\n",
       " [(2, 0), (0, 1), (0, 1)]]"
      ]
     },
     "execution_count": 132,
     "metadata": {},
     "output_type": "execute_result"
    }
   ],
   "source": [
    "states = list(x for x in make_states(3, 2, ds))\n",
    "states"
   ]
  },
  {
   "cell_type": "code",
   "execution_count": 133,
   "id": "ec0b06ba",
   "metadata": {},
   "outputs": [],
   "source": [
    "def increment_state_index(state_index, mode_index):\n",
    "    state = states[state_index]\n",
    "    tail_n = sum(x[0] for x in state[mode_index+1:])\n",
    "    tail_l = sum(1 for x in state[mode_index+1:])\n",
    "    print(tail_l, tail_n)\n",
    "    n_states = num_states(tail_l, tail_n, ds, state_mat=sm)\n",
    "    return states[state_index + n_states]"
   ]
  },
  {
   "cell_type": "code",
   "execution_count": 143,
   "id": "3619831a",
   "metadata": {},
   "outputs": [
    {
     "name": "stdout",
     "output_type": "stream",
     "text": [
      "2 2\n",
      "[(0, 0), (0, 0), (2, 0)]\n",
      "[(0, 1), (0, 0), (2, 0)]\n"
     ]
    }
   ],
   "source": [
    "ss = 0\n",
    "\n",
    "starter_state = states[ss]\n",
    "new_state = increment_state_index(ss, 0)\n",
    "\n",
    "print(starter_state)\n",
    "print(new_state)"
   ]
  },
  {
   "cell_type": "code",
   "execution_count": 146,
   "id": "7e43ca08",
   "metadata": {},
   "outputs": [],
   "source": [
    "state_checks = {}\n",
    "last_states = [(0, x) for x in states[0]]\n",
    "\n",
    "for i, state in enumerate(states):\n",
    "    for mode in range(len(last_states)):\n",
    "        if state[mode] != last_states[mode][1]:\n",
    "            delta = i - last_states[mode][0]\n",
    "            last_states[mode] = (i, state[mode])\n",
    "            sum_n = sum(x[0] for x in state[mode+1:])\n",
    "            key = (len(state) - mode, sum_n)\n",
    "            if key not in state_checks:\n",
    "                state_checks[key] = []\n",
    "            state_checks[key].append(delta)"
   ]
  },
  {
   "cell_type": "code",
   "execution_count": 149,
   "id": "5f5bec3a",
   "metadata": {},
   "outputs": [
    {
     "data": {
      "text/plain": [
       "{(1, 2): 1, (1, 1): 2, (1, 0): 2, (2, 2): 8, (2, 1): 8, (2, 0): 4, (3, 2): 36}"
      ]
     },
     "execution_count": 149,
     "metadata": {},
     "output_type": "execute_result"
    }
   ],
   "source": [
    "sm"
   ]
  },
  {
   "cell_type": "code",
   "execution_count": 147,
   "id": "f22303fd",
   "metadata": {},
   "outputs": [
    {
     "data": {
      "text/plain": [
       "{(2, 2): [1, 2, 1],\n",
       " (2, 1): [1, 2, 1, 2, 2, 2, 2, 2],\n",
       " (1, 0): [2,\n",
       "  1,\n",
       "  1,\n",
       "  1,\n",
       "  1,\n",
       "  1,\n",
       "  1,\n",
       "  2,\n",
       "  1,\n",
       "  1,\n",
       "  1,\n",
       "  1,\n",
       "  1,\n",
       "  1,\n",
       "  1,\n",
       "  1,\n",
       "  1,\n",
       "  1,\n",
       "  1,\n",
       "  1,\n",
       "  1,\n",
       "  1,\n",
       "  1,\n",
       "  1,\n",
       "  1,\n",
       "  1,\n",
       "  1,\n",
       "  1,\n",
       "  1,\n",
       "  1,\n",
       "  1,\n",
       "  1,\n",
       "  1],\n",
       " (2, 0): [2, 2, 2, 2, 2, 2, 2, 2],\n",
       " (3, 2): [8],\n",
       " (3, 1): [8, 8],\n",
       " (3, 0): [8]}"
      ]
     },
     "execution_count": 147,
     "metadata": {},
     "output_type": "execute_result"
    }
   ],
   "source": [
    "state_checks"
   ]
  },
  {
   "cell_type": "code",
   "execution_count": 150,
   "id": "49b51157",
   "metadata": {},
   "outputs": [
    {
     "name": "stdout",
     "output_type": "stream",
     "text": [
      "0\t[(0, 0), (0, 0), (2, 0)]\n",
      "1\t[(0, 0), (0, 1), (2, 0)]\n",
      "2\t[(0, 0), (1, 0), (1, 0)]\n",
      "3\t[(0, 0), (1, 0), (1, 1)]\n",
      "4\t[(0, 0), (1, 1), (1, 0)]\n",
      "5\t[(0, 0), (1, 1), (1, 1)]\n",
      "6\t[(0, 0), (2, 0), (0, 0)]\n",
      "7\t[(0, 0), (2, 0), (0, 1)]\n",
      "8\t[(0, 1), (0, 0), (2, 0)]\n",
      "9\t[(0, 1), (0, 1), (2, 0)]\n",
      "10\t[(0, 1), (1, 0), (1, 0)]\n",
      "11\t[(0, 1), (1, 0), (1, 1)]\n",
      "12\t[(0, 1), (1, 1), (1, 0)]\n",
      "13\t[(0, 1), (1, 1), (1, 1)]\n",
      "14\t[(0, 1), (2, 0), (0, 0)]\n",
      "15\t[(0, 1), (2, 0), (0, 1)]\n",
      "16\t[(1, 0), (0, 0), (1, 0)]\n",
      "17\t[(1, 0), (0, 0), (1, 1)]\n",
      "18\t[(1, 0), (0, 1), (1, 0)]\n",
      "19\t[(1, 0), (0, 1), (1, 1)]\n",
      "20\t[(1, 0), (1, 0), (0, 0)]\n",
      "21\t[(1, 0), (1, 0), (0, 1)]\n",
      "22\t[(1, 0), (1, 1), (0, 0)]\n",
      "23\t[(1, 0), (1, 1), (0, 1)]\n",
      "24\t[(1, 1), (0, 0), (1, 0)]\n",
      "25\t[(1, 1), (0, 0), (1, 1)]\n",
      "26\t[(1, 1), (0, 1), (1, 0)]\n",
      "27\t[(1, 1), (0, 1), (1, 1)]\n",
      "28\t[(1, 1), (1, 0), (0, 0)]\n",
      "29\t[(1, 1), (1, 0), (0, 1)]\n",
      "30\t[(1, 1), (1, 1), (0, 0)]\n",
      "31\t[(1, 1), (1, 1), (0, 1)]\n",
      "32\t[(2, 0), (0, 0), (0, 0)]\n",
      "33\t[(2, 0), (0, 0), (0, 1)]\n",
      "34\t[(2, 0), (0, 1), (0, 0)]\n",
      "35\t[(2, 0), (0, 1), (0, 1)]\n"
     ]
    }
   ],
   "source": [
    "for i, s in enumerate(states):\n",
    "    print(f\"{i}\\t{s}\")"
   ]
  },
  {
   "cell_type": "code",
   "execution_count": 148,
   "id": "9c6a6bf9",
   "metadata": {},
   "outputs": [
    {
     "data": {
      "text/plain": [
       "{(1, 2): 1, (1, 1): 2, (1, 0): 2, (2, 2): 8, (2, 1): 8, (2, 0): 4, (3, 2): 36}"
      ]
     },
     "execution_count": 148,
     "metadata": {},
     "output_type": "execute_result"
    }
   ],
   "source": [
    "sm"
   ]
  },
  {
   "cell_type": "code",
   "execution_count": null,
   "id": "c279c714",
   "metadata": {},
   "outputs": [],
   "source": []
  }
 ],
 "metadata": {
  "kernelspec": {
   "display_name": "Python 3 (ipykernel)",
   "language": "python",
   "name": "python3"
  },
  "language_info": {
   "codemirror_mode": {
    "name": "ipython",
    "version": 3
   },
   "file_extension": ".py",
   "mimetype": "text/x-python",
   "name": "python",
   "nbconvert_exporter": "python",
   "pygments_lexer": "ipython3",
   "version": "3.8.10"
  }
 },
 "nbformat": 4,
 "nbformat_minor": 5
}
