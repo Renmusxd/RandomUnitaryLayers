{
 "cells": [
  {
   "cell_type": "code",
   "execution_count": 1,
   "id": "77db21f2",
   "metadata": {},
   "outputs": [],
   "source": [
    "import numpy\n",
    "import py_entropy\n",
    "from matplotlib import pyplot\n",
    "import os\n",
    "\n",
    "from tqdm.notebook import tqdm\n",
    "\n",
    "pyplot.rcParams.update({\n",
    "  \"text.usetex\": True,\n",
    "  \"font.family\": \"Helvetica\"\n",
    "})"
   ]
  },
  {
   "cell_type": "code",
   "execution_count": 2,
   "id": "792cb766",
   "metadata": {},
   "outputs": [],
   "source": [
    "output_dir = \"dephased_dimers\"\n",
    "\n",
    "os.makedirs(output_dir, exist_ok=True)"
   ]
  },
  {
   "cell_type": "code",
   "execution_count": 3,
   "id": "a2ebaed5",
   "metadata": {},
   "outputs": [],
   "source": [
    "def dephase_site(site, probs_and_states):\n",
    "    all_ps_ss = []\n",
    "    for p,s in probs_and_states:\n",
    "        (pa,sa), (pb,sb) = s.trace_out_site(site)\n",
    "        if pa > 0.0:\n",
    "            all_ps_ss.append((p*pa, sa))\n",
    "        if pb > 0.0:\n",
    "            all_ps_ss.append((p*pb, sb))\n",
    "    return all_ps_ss\n",
    "\n",
    "def dephase_sites(start,end,probs_and_states):\n",
    "    for i in range(start, end):\n",
    "        probs_and_states = dephase_site(i, probs_and_states)\n",
    "    return probs_and_states"
   ]
  },
  {
   "cell_type": "code",
   "execution_count": null,
   "id": "4e41127a",
   "metadata": {},
   "outputs": [],
   "source": []
  }
 ],
 "metadata": {
  "kernelspec": {
   "display_name": "Python 3 (ipykernel)",
   "language": "python",
   "name": "python3"
  },
  "language_info": {
   "codemirror_mode": {
    "name": "ipython",
    "version": 3
   },
   "file_extension": ".py",
   "mimetype": "text/x-python",
   "name": "python",
   "nbconvert_exporter": "python",
   "pygments_lexer": "ipython3",
   "version": "3.8.10"
  }
 },
 "nbformat": 4,
 "nbformat_minor": 5
}
