{
 "cells": [
  {
   "cell_type": "code",
   "execution_count": 1,
   "id": "ec36f3ef",
   "metadata": {},
   "outputs": [],
   "source": [
    "import numpy\n",
    "from matplotlib import pyplot\n",
    "import py_entropy\n",
    "\n",
    "def haar_measure(n):\n",
    "    \"\"\"A Random matrix distributed with Haar measure\"\"\"\n",
    "    z = (numpy.random.randn(n,n) + 1j*numpy.random.randn(n,n))/numpy.sqrt(2.0)\n",
    "    q,r = numpy.linalg.qr(z)\n",
    "    d = numpy.diagonal(r)\n",
    "    ph = d/numpy.absolute(d)\n",
    "    q = numpy.multiply(q,ph,q)\n",
    "    return q"
   ]
  },
  {
   "cell_type": "code",
   "execution_count": 2,
   "id": "5e09c66e",
   "metadata": {},
   "outputs": [],
   "source": [
    "all_eigs = []\n",
    "for i in range(100000):\n",
    "    u = haar_measure(15)\n",
    "    eigs = numpy.linalg.eigvals(u)\n",
    "    all_eigs.extend(eigs)"
   ]
  },
  {
   "cell_type": "code",
   "execution_count": 3,
   "id": "0bf0f22a",
   "metadata": {},
   "outputs": [
    {
     "data": {
      "image/png": "[encoded data removed]",
      "text/plain": [
       "<Figure size 432x288 with 1 Axes>"
      ]
     },
     "metadata": {
      "needs_background": "light"
     },
     "output_type": "display_data"
    }
   ],
   "source": [
    "_ = pyplot.hist(numpy.angle(all_eigs), bins=100, density=True)"
   ]
  },
  {
   "cell_type": "code",
   "execution_count": 10,
   "id": "b9265177",
   "metadata": {},
   "outputs": [
    {
     "data": {
      "text/plain": [
       "array([[    0,    10,   200,  3000],\n",
       "       [    4,    50,   600,  7000],\n",
       "       [    8,    90,  1000, 11000],\n",
       "       [   12,   130,  1400, 15000]])"
      ]
     },
     "execution_count": 10,
     "metadata": {},
     "output_type": "execute_result"
    }
   ],
   "source": [
    "q = numpy.arange(16).reshape((4,4))\n",
    "v = numpy.asarray([1,10,100,1000])\n",
    "numpy.multiply(q,v)"
   ]
  },
  {
   "cell_type": "code",
   "execution_count": 11,
   "id": "a1edbc47",
   "metadata": {},
   "outputs": [
    {
     "data": {
      "text/plain": [
       "array([[    0,    10,   200,  3000],\n",
       "       [    4,    50,   600,  7000],\n",
       "       [    8,    90,  1000, 11000],\n",
       "       [   12,   130,  1400, 15000]])"
      ]
     },
     "execution_count": 11,
     "metadata": {},
     "output_type": "execute_result"
    }
   ],
   "source": [
    "numpy.multiply(v,q)"
   ]
  },
  {
   "cell_type": "code",
   "execution_count": 12,
   "id": "22c62bf3",
   "metadata": {},
   "outputs": [
    {
     "data": {
      "text/plain": [
       "array([[    0,    10,   200,  3000],\n",
       "       [    4,    50,   600,  7000],\n",
       "       [    8,    90,  1000, 11000],\n",
       "       [   12,   130,  1400, 15000]])"
      ]
     },
     "execution_count": 12,
     "metadata": {},
     "output_type": "execute_result"
    }
   ],
   "source": [
    "numpy.multiply(q, v, q)"
   ]
  },
  {
   "cell_type": "code",
   "execution_count": 7,
   "id": "d6cd989b",
   "metadata": {},
   "outputs": [],
   "source": [
    "g = py_entropy.GenericMultiDefectState(5, 2, [1,1,0])\n",
    "\n",
    "def g_haar_measure(n):\n",
    "    \"\"\"A Random matrix distributed with Haar measure\"\"\"\n",
    "    return g.get_random_unitary(n)"
   ]
  },
  {
   "cell_type": "code",
   "execution_count": 8,
   "id": "78631822",
   "metadata": {},
   "outputs": [],
   "source": [
    "all_eigs = []\n",
    "for i in range(100000):\n",
    "    u = g_haar_measure(15)\n",
    "    eigs = numpy.linalg.eigvals(u)\n",
    "    all_eigs.extend(eigs)"
   ]
  },
  {
   "cell_type": "code",
   "execution_count": 9,
   "id": "663b0f90",
   "metadata": {},
   "outputs": [
    {
     "data": {
      "image/png": "[encoded data removed]",
      "text/plain": [
       "<Figure size 432x288 with 1 Axes>"
      ]
     },
     "metadata": {
      "needs_background": "light"
     },
     "output_type": "display_data"
    }
   ],
   "source": [
    "_ = pyplot.hist(numpy.angle(all_eigs), bins=100, density=True)"
   ]
  },
  {
   "cell_type": "code",
   "execution_count": null,
   "id": "aaf407b3",
   "metadata": {},
   "outputs": [],
   "source": []
  }
 ],
 "metadata": {
  "kernelspec": {
   "display_name": "Python 3 (ipykernel)",
   "language": "python",
   "name": "python3"
  },
  "language_info": {
   "codemirror_mode": {
    "name": "ipython",
    "version": 3
   },
   "file_extension": ".py",
   "mimetype": "text/x-python",
   "name": "python",
   "nbconvert_exporter": "python",
   "pygments_lexer": "ipython3",
   "version": "3.8.10"
  }
 },
 "nbformat": 4,
 "nbformat_minor": 5
}
